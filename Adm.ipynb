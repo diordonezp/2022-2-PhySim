{
 "cells": [
  {
   "cell_type": "code",
   "execution_count": 3,
   "id": "a8a2e920",
   "metadata": {
    "scrolled": false
   },
   "outputs": [
    {
     "name": "stdout",
     "output_type": "stream",
     "text": [
      "Dia  10  de  23\n",
      "\n",
      "Presupuesto:  300000\n",
      "Comida:  106950\n",
      "Transporte:  60000\n",
      "\n",
      "Ahorro:  133050\n",
      "Gasto máximo en comida:  6696.153846153846\n"
     ]
    }
   ],
   "source": [
    "import calendar\n",
    "import datetime\n",
    "\n",
    "def count_lines(name):\n",
    "    f=open(name,\"r\")\n",
    "    x=f.readlines()\n",
    "    f.close()\n",
    "    return len(x)\n",
    "\n",
    "def clas(P,T,G,mod,x):\n",
    "    if(mod==\"P\"):\n",
    "        P+=x\n",
    "    if(mod==\"T\"):\n",
    "        T+=x\n",
    "    if(mod==\"G\"):\n",
    "        G+=x\n",
    "        \n",
    "def bdays():\n",
    "    now = datetime.datetime.now()\n",
    "    cal = calendar.Calendar()\n",
    "    working_days = len([x for x in cal.itermonthdays2(now.year, now.month) if x[0] !=0 and x[1] < 5])\n",
    "    return working_days\n",
    "\n",
    "class adm:\n",
    "    def __init__(self,name):\n",
    "        self.d_trans=2650\n",
    "        self.P=0\n",
    "        self.T=0\n",
    "        self.t=0\n",
    "        self.G=0\n",
    "        self.days=0\n",
    "        self.mod=\"n\"\n",
    "        self.monthdays=bdays()\n",
    "        f=open(name,\"r\")\n",
    "        for i in range(0,count_lines(\"reg.txt\")):\n",
    "            x=f.readline().strip()\n",
    "            if(str.isdigit(x)==False):\n",
    "                self.mod=x\n",
    "            if(str.isdigit(x)==True):\n",
    "                x=int(x)\n",
    "                if(self.mod==\"P\"):\n",
    "                    self.P+=x\n",
    "                if(self.mod==\"T\"):\n",
    "                    self.T+=x\n",
    "                if(self.mod==\"G\"):\n",
    "                    self.G+=x\n",
    "            if(self.mod==\".\"):\n",
    "                    self.days+=1\n",
    "            if(self.mod==\"t\"):\n",
    "                    self.t+=1\n",
    "            \n",
    "    def proy(self):\n",
    "        PG=(self.P-self.G-2*(self.monthdays-(self.days-self.t))*self.d_trans)/(self.monthdays-self.days)\n",
    "        print(\"Dia \",self.days,\" de \",self.monthdays)\n",
    "        print()\n",
    "        print(\"Presupuesto: \",self.P)\n",
    "        print(\"Comida: \",self.G)\n",
    "        print(\"Transporte: \",self.T)\n",
    "        print()\n",
    "        print(\"Ahorro: \",self.P-self.T-self.G)\n",
    "        print(\"Gasto máximo en comida: \", PG)\n",
    "\n",
    "a=adm(\"reg.txt\")\n",
    "a.proy()"
   ]
  }
 ],
 "metadata": {
  "kernelspec": {
   "display_name": "Python 3 (ipykernel)",
   "language": "python",
   "name": "python3"
  },
  "language_info": {
   "codemirror_mode": {
    "name": "ipython",
    "version": 3
   },
   "file_extension": ".py",
   "mimetype": "text/x-python",
   "name": "python",
   "nbconvert_exporter": "python",
   "pygments_lexer": "ipython3",
   "version": "3.9.7"
  }
 },
 "nbformat": 4,
 "nbformat_minor": 5
}
