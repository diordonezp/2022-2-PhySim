{
 "cells": [
  {
   "cell_type": "code",
   "execution_count": 20,
   "id": "b89b2c83",
   "metadata": {},
   "outputs": [
    {
     "data": {
      "image/png": "[encoded data removed]",
      "text/plain": [
       "<Figure size 432x288 with 1 Axes>"
      ]
     },
     "metadata": {
      "needs_background": "light"
     },
     "output_type": "display_data"
    }
   ],
   "source": [
    "import numpy as np\n",
    "import matplotlib.pyplot as plt\n",
    "\n",
    "ydata=[]\n",
    "xdata=[]\n",
    "f=open(\"perfil(seed2).txt\",\"r\")\n",
    "\n",
    "for i in range(40):\n",
    "    list=f.readline().split()\n",
    "    if(list[1]!='0'):\n",
    "        xdata.append(float(list[0]))\n",
    "        ydata.append(float(list[1]))\n",
    "\n",
    "# for i in range(len(ydata)):\n",
    "#     print(xdata[i],\"\\t\",ydata[i])\n",
    "plt.figure()\n",
    "plt.plot(xdata,ydata,\".\")\n",
    "plt.show()"
   ]
  },
  {
   "cell_type": "code",
   "execution_count": 75,
   "id": "3b05314a",
   "metadata": {},
   "outputs": [],
   "source": [
    "from scipy.optimize import curve_fit\n",
    "\n",
    "def func(x,m,b):\n",
    "    return m*x+b\n",
    "\n",
    "def Rsqrt(xdata,ydata,popt):\n",
    "    arr=np.array(xdata)\n",
    "    residuals=ydata-func(arr,popt[0],popt[1])\n",
    "    ss_res = np.sum(residuals**2)\n",
    "    ss_tot = np.sum((ydata-np.mean(ydata))**2)\n",
    "    return 1 - (ss_res / ss_tot)\n",
    "\n",
    "def fit(xi,xf,m0,b0):\n",
    "    x=[i for i in xdata if(i>xi and i<xf)]\n",
    "    y=[i for i in ydata if(xdata[ydata.index(i)]>xi and xdata[ydata.index(i)]<xf)]\n",
    "    \n",
    "    popt,pcov=curve_fit(func,x,y,p0=(m0,b0))\n",
    "    m0=popt[0] \n",
    "    dm0=np.sqrt(pcov[0][0])\n",
    "    b0=popt[1]\n",
    "    db0=np.sqrt(pcov[1][1])\n",
    "    \n",
    "    R=Rsqrt(x,y,popt)\n",
    "    \n",
    "    return [m0,b0],R\n",
    "\n",
    "def mid_point(xdata,ydata):\n",
    "    "
   ]
  },
  {
   "cell_type": "code",
   "execution_count": 77,
   "id": "c6157352",
   "metadata": {},
   "outputs": [
    {
     "name": "stdout",
     "output_type": "stream",
     "text": [
      "Recta izquierda:\n",
      "y= 0.43068326763329134 x+ -2.2704593012801197\n",
      "θ₁= 0.4066745611264098\n",
      "Recta derecha:\n",
      "y= -0.5162927907978646 x+ 80.43975616214911\n",
      "θ₂= 0.47659672222913263\n",
      "\n",
      "Ángulo θ= 0.44163564167777125\n"
     ]
    },
    {
     "data": {
      "image/png": "[encoded data removed]",
      "text/plain": [
       "<Figure size 432x288 with 1 Axes>"
      ]
     },
     "metadata": {
      "needs_background": "light"
     },
     "output_type": "display_data"
    }
   ],
   "source": [
    "xm=90\n",
    "xarr0=np.arange(0,xm,0.01)\n",
    "xarr1=np.arange(xm,160,0.01)\n",
    "\n",
    "[m0,b0],R0=fit(0,xm,0,0)[0],fit(0,xm,0,0)[1]\n",
    "[m1,b1],R1=fit(xm,160,0,0)[0],fit(xm,160,0,0)[1]\n",
    "\n",
    "print(\"Recta izquierda:\")\n",
    "print(\"y=\",m0,\"x+\",b0)\n",
    "print(\"\\u03B8\\u2081=\",np.arctan(m0))\n",
    "print(\"Recta derecha:\")\n",
    "print(\"y=\",m1,\"x+\",b1)\n",
    "print(\"\\u03B8\\u2082=\",-np.arctan(m1))\n",
    "print()\n",
    "print(\"Ángulo \\u03B8=\",1/2*(np.arctan(m0)-np.arctan(m1)))\n",
    "\n",
    "plt.figure()\n",
    "plt.plot(xdata,ydata,\".\")\n",
    "plt.plot(xarr0,m0*xarr0+b0,\"-\")\n",
    "plt.plot(xarr1,m1*xarr1+b1,\"-\")\n",
    "plt.show()"
   ]
  }
 ],
 "metadata": {
  "kernelspec": {
   "display_name": "Python 3 (ipykernel)",
   "language": "python",
   "name": "python3"
  },
  "language_info": {
   "codemirror_mode": {
    "name": "ipython",
    "version": 3
   },
   "file_extension": ".py",
   "mimetype": "text/x-python",
   "name": "python",
   "nbconvert_exporter": "python",
   "pygments_lexer": "ipython3",
   "version": "3.9.12"
  }
 },
 "nbformat": 4,
 "nbformat_minor": 5
}
